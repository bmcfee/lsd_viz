{
 "metadata": {
  "name": "",
  "signature": "sha256:eab75965ef6a8e4866034c779820bf4fe4e5e15b23fd74316e84f4e76c86a8e3"
 },
 "nbformat": 3,
 "nbformat_minor": 0,
 "worksheets": [
  {
   "cells": [
    {
     "cell_type": "code",
     "collapsed": false,
     "input": [
      "import librosa\n",
      "import numpy as np\n",
      "import matplotlib.pyplot as plt\n",
      "%matplotlib inline"
     ],
     "language": "python",
     "metadata": {},
     "outputs": [],
     "prompt_number": 1
    },
    {
     "cell_type": "code",
     "collapsed": false,
     "input": [
      "import ujson as json"
     ],
     "language": "python",
     "metadata": {},
     "outputs": [],
     "prompt_number": 2
    },
    {
     "cell_type": "code",
     "collapsed": false,
     "input": [
      "import sys"
     ],
     "language": "python",
     "metadata": {},
     "outputs": [],
     "prompt_number": 3
    },
    {
     "cell_type": "code",
     "collapsed": false,
     "input": [
      "sys.path.insert(0, '/home/bmcfee/git/ismir2014_laplacian/code/')"
     ],
     "language": "python",
     "metadata": {},
     "outputs": [],
     "prompt_number": 4
    },
    {
     "cell_type": "code",
     "collapsed": false,
     "input": [
      "import segmenter"
     ],
     "language": "python",
     "metadata": {},
     "outputs": [],
     "prompt_number": 5
    },
    {
     "cell_type": "code",
     "collapsed": false,
     "input": [
      "segmenter.MAX_REP = 9\n",
      "MAX_LINKS = 3"
     ],
     "language": "python",
     "metadata": {},
     "outputs": [],
     "prompt_number": 6
    },
    {
     "cell_type": "code",
     "collapsed": false,
     "input": [
      "def normalize_labels(labels):\n",
      "    \n",
      "    remap = {}\n",
      "    v = 0\n",
      "    \n",
      "    for i in labels:\n",
      "        if i in remap:\n",
      "            continue\n",
      "        remap[i] = v\n",
      "        v = v + 1\n",
      "        \n",
      "    return [remap[i] for i in labels]"
     ],
     "language": "python",
     "metadata": {},
     "outputs": [],
     "prompt_number": 7
    },
    {
     "cell_type": "code",
     "collapsed": false,
     "input": [
      "def do_segmentation(X, beats):\n",
      "\n",
      "    X_rep, X_loc = X\n",
      "    # Find the segment boundaries\n",
      "    k_min, k_max  = segmenter.get_num_segs(beats[-1])\n",
      "\n",
      "    # Get the raw recurrence plot\n",
      "    Xpad = np.pad(X_rep, [(0,0), (segmenter.N_STEPS, 0)], mode='edge')\n",
      "    Xs = librosa.segment.stack_memory(Xpad, n_steps=segmenter.N_STEPS)[:, segmenter.N_STEPS:]\n",
      "\n",
      "    k_link = 1 + int(np.ceil(2 * np.log2(X_rep.shape[1])))\n",
      "    R = librosa.segment.recurrence_matrix(  Xs, \n",
      "                                            k=k_link, \n",
      "                                            width=segmenter.REP_WIDTH, \n",
      "                                            metric=segmenter.METRIC,\n",
      "                                            sym=True).astype(np.float32)\n",
      "    # Get the knn links\n",
      "    links = []\n",
      "    for i in range(len(R)):\n",
      "        links.append(list(np.flatnonzero(R[i,:])))\n",
      "        if len(links[-1]) > MAX_LINKS:\n",
      "            links[-1] = links[-1][:MAX_LINKS]\n",
      "    \n",
      "    # Generate the repetition kernel\n",
      "    A_rep = segmenter.self_similarity(Xs, k=k_link)\n",
      "\n",
      "    # And the local path kernel\n",
      "    A_loc = segmenter.self_similarity(X_loc, k=k_link)\n",
      "\n",
      "    # Mask the self-similarity matrix by recurrence\n",
      "    S = librosa.segment.structure_feature(R)\n",
      "\n",
      "    Sf = segmenter.clean_reps(S)\n",
      "\n",
      "    # De-skew\n",
      "    Rf = librosa.segment.structure_feature(Sf, inverse=True)\n",
      "\n",
      "    # Symmetrize by force\n",
      "    Rf = np.maximum(Rf, Rf.T)\n",
      "\n",
      "    # Suppress the diagonal\n",
      "    Rf[np.diag_indices_from(Rf)] = 0\n",
      "\n",
      "    # We can jump to a random neighbor, or +- 1 step in time\n",
      "    # Call it the infinite jukebox matrix\n",
      "    T = segmenter.weighted_ridge(Rf * A_rep, (np.eye(len(A_loc),k=1) + np.eye(len(A_loc),k=-1)) * A_loc)\n",
      "    # Get the graph laplacian\n",
      "    L = segmenter.sym_laplacian(T)\n",
      "\n",
      "    # Get the bottom k eigenvectors of L\n",
      "    Lf = segmenter.factorize(L, k=1+segmenter.MAX_REP)[0]\n",
      "    \n",
      "    B, L = [], []\n",
      "    \n",
      "    parse = []\n",
      "    for k in range(1, len(Lf)):\n",
      "        boundaries, labels = segmenter.fixed_partition(Lf, k)\n",
      "        parse.append({'boundaries': list(boundaries),\n",
      "                      'labels':     normalize_labels(list(labels))})\n",
      "        \n",
      "    \n",
      "    return parse, links"
     ],
     "language": "python",
     "metadata": {},
     "outputs": [],
     "prompt_number": 8
    },
    {
     "cell_type": "code",
     "collapsed": false,
     "input": [
      "import os\n",
      "import re\n",
      "\n",
      "def get_meta(filename):\n",
      "    R = re.match('.*/(?P<artist>.*)-(?P<title>.*).mp3', filename)\n",
      "    #R = re.match('.*/(?P<artist>The Beatles)/.*/.*_-_(?P<title>.*).flac', filename)\n",
      "    return R.groups()"
     ],
     "language": "python",
     "metadata": {},
     "outputs": [],
     "prompt_number": 9
    },
    {
     "cell_type": "code",
     "collapsed": false,
     "input": [
      "def process_audio(infile, outfile):\n",
      "    X, beats = segmenter.features(infile)\n",
      "    parse, links = do_segmentation(X, beats)\n",
      "    meta = get_meta(infile)\n",
      "    json.dump({'filename': infile, \n",
      "               'artist': meta[0], \n",
      "               'title': meta[1],\n",
      "               'beats': list(beats),\n",
      "               'duration': float(beats[-1]),\n",
      "               'links': links,\n",
      "               'segments': parse}, open(outfile, 'w'))"
     ],
     "language": "python",
     "metadata": {},
     "outputs": [],
     "prompt_number": 10
    },
    {
     "cell_type": "code",
     "collapsed": false,
     "input": [
      "#files = librosa.util.find_files('/home/bmcfee/data/CAL500/mp3/')\n",
      "#files = librosa.util.find_files('/home/bmcfee/data/beatles_iso/audio/The Beatles/')\n",
      "#files = librosa.util.find_files('//home/bmcfee/Music/IAYD - Supergalactic/', recurse=False, ext='mp3')\n",
      "files = librosa.util.find_files('//home/bmcfee/', recurse=False, ext='mp3')"
     ],
     "language": "python",
     "metadata": {},
     "outputs": [],
     "prompt_number": 20
    },
    {
     "cell_type": "code",
     "collapsed": false,
     "input": [
      "print files"
     ],
     "language": "python",
     "metadata": {},
     "outputs": [
      {
       "output_type": "stream",
       "stream": "stdout",
       "text": [
        "['//home/bmcfee/Alice In Chains-Sickman.mp3', '//home/bmcfee/Alice In Chains-Would.mp3', '//home/bmcfee/Boss_Select.mp3', '//home/bmcfee/gthang.mp3', '//home/bmcfee/harry.mp3', '//home/bmcfee/ride.mp3', '//home/bmcfee/shak.mp3']\n"
       ]
      }
     ],
     "prompt_number": 21
    },
    {
     "cell_type": "code",
     "collapsed": false,
     "input": [
      "#ids = range(len(files))\n",
      "ids = [0,1]\n",
      "#np.random.shuffle(ids)"
     ],
     "language": "python",
     "metadata": {},
     "outputs": [],
     "prompt_number": 23
    },
    {
     "cell_type": "code",
     "collapsed": false,
     "input": [
      "for i in ids[:20]:\n",
      "    print i, files[i]\n",
      "    if os.path.exists('/home/bmcfee/git/ismir2014_laplacian/web/data/%d.json' % (12000 + i)):\n",
      "        continue\n",
      "    process_audio(files[i], '/home/bmcfee/git/ismir2014_laplacian/web/data/%d.json' % (12000 + i))"
     ],
     "language": "python",
     "metadata": {},
     "outputs": [
      {
       "output_type": "stream",
       "stream": "stdout",
       "text": [
        "0 //home/bmcfee/Alice In Chains-Sickman.mp3\n",
        "\t[1/5] loading audio\n",
        "\t[2/5] Separating harmonic and percussive signals"
       ]
      },
      {
       "output_type": "stream",
       "stream": "stdout",
       "text": [
        "\n",
        "\t[3/5] detecting beats"
       ]
      },
      {
       "output_type": "stream",
       "stream": "stdout",
       "text": [
        "\n",
        "\t[4/5] generating CQT"
       ]
      },
      {
       "output_type": "stream",
       "stream": "stdout",
       "text": [
        "\n",
        "\t[5/5] generating MFCC"
       ]
      },
      {
       "output_type": "stream",
       "stream": "stdout",
       "text": [
        "\n",
        "1"
       ]
      },
      {
       "output_type": "stream",
       "stream": "stdout",
       "text": [
        " //home/bmcfee/Alice In Chains-Would.mp3\n",
        "\t[1/5] loading audio\n",
        "\t[2/5] Separating harmonic and percussive signals"
       ]
      },
      {
       "output_type": "stream",
       "stream": "stdout",
       "text": [
        "\n",
        "\t[3/5] detecting beats"
       ]
      },
      {
       "output_type": "stream",
       "stream": "stdout",
       "text": [
        "\n",
        "\t[4/5] generating CQT"
       ]
      },
      {
       "output_type": "stream",
       "stream": "stdout",
       "text": [
        "\n",
        "\t[5/5] generating MFCC"
       ]
      },
      {
       "output_type": "stream",
       "stream": "stdout",
       "text": [
        "\n"
       ]
      }
     ],
     "prompt_number": 24
    },
    {
     "cell_type": "code",
     "collapsed": false,
     "input": [],
     "language": "python",
     "metadata": {},
     "outputs": []
    }
   ],
   "metadata": {}
  }
 ]
}